{
 "cells": [
  {
   "cell_type": "code",
   "execution_count": null,
   "metadata": {},
   "outputs": [],
   "source": [
    "# Functions to find the maximum value of a matrix.\n",
    "\n",
    "def find_min(matrix):\n",
    "    min_val = min(min(row) for row in matrix)\n",
    "    return min_val\n",
    "\n",
    "def find_max(matrix):\n",
    "    min_val = max(max(row) for row in matrix)\n",
    "    return min_val\n",
    "# Example usage\n",
    "matrix = [[5, 10, 13], [1, 6, 5], [0, -1, 7]]\n",
    "min_value = find_min(matrix)\n",
    "max_value = find_max(matrix)\n",
    "print(min_value)\n",
    "print(max_value)"
   ]
  },
  {
   "cell_type": "markdown",
   "metadata": {},
   "source": [
    "### Creating a dictionary from lists/arrays\n"
   ]
  },
  {
   "cell_type": "code",
   "execution_count": 306,
   "metadata": {},
   "outputs": [
    {
     "data": {
      "text/plain": [
       "1"
      ]
     },
     "execution_count": 306,
     "metadata": {},
     "output_type": "execute_result"
    }
   ],
   "source": [
    "res = {}\n",
    "list_1 = ['A', 'B', 'C', 'D']\n",
    "list_2 = np.array([1,2,3,4])\n",
    "test_keys = list(list_1)\n",
    "test_values = list(list_2) \n",
    "\n",
    "\n",
    "for key in test_keys:\n",
    "    for value in test_values:\n",
    "        res[key] = value\n",
    "        test_values.remove(value)\n",
    "        break\n"
   ]
  },
  {
   "cell_type": "markdown",
   "metadata": {},
   "source": [
    "### Updating a key value"
   ]
  },
  {
   "cell_type": "code",
   "execution_count": 309,
   "metadata": {},
   "outputs": [
    {
     "data": {
      "text/plain": [
       "{'A': 2, 'B': 2, 'C': 3, 'D': 4}"
      ]
     },
     "execution_count": 309,
     "metadata": {},
     "output_type": "execute_result"
    }
   ],
   "source": [
    "res\n",
    "\n",
    "# Updating the key value of the given kye\n",
    "\n",
    "key = 'A'\n",
    "res[key]\n",
    "res[key] = 2\n",
    "res"
   ]
  },
  {
   "cell_type": "markdown",
   "metadata": {},
   "source": [
    "### Extracting desired items from a dictionary"
   ]
  },
  {
   "cell_type": "code",
   "execution_count": 180,
   "metadata": {},
   "outputs": [
    {
     "data": {
      "text/plain": [
       "(1, 'Geeks')"
      ]
     },
     "execution_count": 180,
     "metadata": {},
     "output_type": "execute_result"
    }
   ],
   "source": [
    "# Function to extract the element of a dictionary at the desired index.\n",
    "\n",
    "Dict = {1:'Geeks', 2: 'For', 3: 'Geeks'}\n",
    "y = list(Dict.items())\n",
    "y[0]"
   ]
  },
  {
   "cell_type": "code",
   "execution_count": null,
   "metadata": {},
   "outputs": [],
   "source": [
    "# Two equivalent ways to create arrays with repeating numbers.\n",
    "import numpy as np\n",
    "\n",
    "Array_for_plotting_1 = np.empty(4, dtype = int)\n",
    "Array_for_plotting_1.fill(0)\n",
    "\n",
    "\n",
    "Array_for_plotting_2 = np.repeat(0,4)\n",
    "\n",
    "type(Array_for_plotting_2)\n",
    "\n",
    "# Use np.zeroes((shape,)) to create 0 filled arrays which are also mutable.\n",
    "\n",
    "x = 10\n",
    "empty = np.zeros((x,))"
   ]
  },
  {
   "cell_type": "code",
   "execution_count": null,
   "metadata": {},
   "outputs": [],
   "source": [
    "# Custom functions to add two arrays of unequal size:\n",
    "# If a whole list gets inserted then the sorting function won't work.\n",
    "\n",
    "def custom_array_adder(A1,A2):\n",
    "    if len(A1) > len(A2):\n",
    "        dummy_array = np.repeat(0,len(A1))\n",
    "        for i in range(len(A1)):\n",
    "            if i < len(A2):\n",
    "                dummy_array[i] = A1[i] + A2[i]\n",
    "            else :\n",
    "                dummy_array[i] = A1[i]\n",
    "    else: \n",
    "        print(\"WARNING: Enter larger array as the first input in the custom_array_adder() function.\")\n",
    "    return dummy_array"
   ]
  },
  {
   "cell_type": "code",
   "execution_count": null,
   "metadata": {},
   "outputs": [],
   "source": [
    "# Custom code to put elements of two lists in one and then sorting them in ascending order.\n",
    "\n",
    "a = [1,4,9]\n",
    "b = [0,2,5]\n",
    "a.extend(b)\n",
    "a.sort()\n",
    "a"
   ]
  },
  {
   "cell_type": "code",
   "execution_count": null,
   "metadata": {},
   "outputs": [],
   "source": [
    "# The following script will change the elements of the array 'empty'.\n",
    "\n",
    "import random as rd\n",
    "import numpy as np\n",
    "\n",
    "x = 10\n",
    "empty = np.zeros((x,))\n",
    "\n",
    "print(empty)\n",
    "for i in range(x):\n",
    "    empty[i] = rd.uniform(0,1)\n",
    "    print(empty[i])\n",
    "\n",
    "empty\n"
   ]
  },
  {
   "cell_type": "code",
   "execution_count": null,
   "metadata": {},
   "outputs": [],
   "source": [
    "# Making a for loop run slower:\n",
    "\n",
    "import time\n",
    "\n",
    "# sleep(x) means 'x' no. of seconds for which you want the for loop to 'sleep' or be delayed per iteration.\n",
    "\n",
    "for i in range(10):\n",
    "    print(i)\n",
    "    time.sleep(2)\n"
   ]
  },
  {
   "cell_type": "code",
   "execution_count": null,
   "metadata": {},
   "outputs": [],
   "source": [
    "# Function to instert an element in a list, at the specified position. One can even insert an array into the list. \n",
    "# However, it can not be used to insert elements into an array.\n",
    "\n",
    "List_1 = []\n",
    "List_1.insert(0, 1)\n",
    "\n",
    "List_1"
   ]
  },
  {
   "cell_type": "code",
   "execution_count": null,
   "metadata": {},
   "outputs": [],
   "source": [
    "# plotting a histogram from a dictionary\n",
    "\n",
    "# creating the dataset\n",
    "data = res\n",
    "ranges = list(data.keys())\n",
    "values = list(data.values())\n",
    "\n",
    "import matplotlib\n",
    "from matplotlib import pyplot as plt\n",
    "\n",
    "fig = plt.figure(figsize = (14, 6))\n",
    " \n",
    "# creating the bar plot\n",
    "plt.bar(ranges, values, color ='maroon', width = 250)\n",
    "plt.xlabel(\"Window ranges\")\n",
    "plt.ylabel(\"No. of spikes with amplitudes in each range\")\n",
    "plt.title(\"Spike clustering plot based on amplitude\")\n",
    "plt.show()"
   ]
  },
  {
   "cell_type": "code",
   "execution_count": null,
   "metadata": {},
   "outputs": [],
   "source": [
    "# Code to generate 100 normally distributed random numbers as specified by a model. \n",
    "\n",
    "import numpy as np\n",
    "import matplotlib.pyplot as plt\n",
    "\n",
    "def generate_data(m, c, std_dev, n=200):\n",
    "    x = np.random.normal(size=n)\n",
    "    y = m * x + c + np.random.normal(scale=std_dev, size=n)\n",
    "    return x, y\n",
    "\n",
    "m = 2 # slope\n",
    "c = 5 # y-intercept\n",
    "std_dev = 1 # standard deviation\n",
    "x, y = generate_data(m, c, std_dev)\n",
    "\n",
    "plt.scatter(x,y)\n"
   ]
  },
  {
   "cell_type": "code",
   "execution_count": null,
   "metadata": {},
   "outputs": [],
   "source": [
    "var = []\n",
    "A = 1\n",
    "B = 5\n",
    "for i in range(B-A):\n",
    "    var.append({})\n",
    "\n",
    "var[0] = 1"
   ]
  },
  {
   "cell_type": "markdown",
   "metadata": {},
   "source": [
    "### Mapping multiple input items to multiple variables"
   ]
  },
  {
   "cell_type": "code",
   "execution_count": null,
   "metadata": {},
   "outputs": [],
   "source": [
    "a,b,c,d = map(int, input().split())"
   ]
  },
  {
   "cell_type": "code",
   "execution_count": 204,
   "metadata": {},
   "outputs": [
    {
     "name": "stdout",
     "output_type": "stream",
     "text": [
      "\n"
     ]
    }
   ],
   "source": [
    "a = input(int())\n",
    "b = input(int())\n",
    "\n",
    "ans = a + b\n",
    "\n",
    "print(ans)"
   ]
  },
  {
   "cell_type": "code",
   "execution_count": null,
   "metadata": {},
   "outputs": [],
   "source": [
    "import math\n",
    "import array as arr\n",
    "\n",
    "\n",
    "def simpleArraySum(ar):\n",
    "    Sum = 0\n",
    "    for i in range(len(ar)):\n",
    "        Sum = Sum + ar[i-1]\n",
    "    \n",
    "    return Sum\n",
    "\n",
    "ar = [1,2,3,4]\n",
    "\n",
    "simpleArraySum(ar)"
   ]
  },
  {
   "cell_type": "code",
   "execution_count": null,
   "metadata": {},
   "outputs": [],
   "source": [
    "len_arr = 6\n",
    "ar = list(map(int, input().split()))\n",
    "\n",
    "def simpleArraySum(n):\n",
    "  Sum = 0\n",
    "  for i in range(len(n)):\n",
    "    Sum = Sum + n[i-1]\n",
    "  return Sum\n",
    "\n",
    "x = simpleArraySum(ar)\n",
    "\n",
    "print(x)"
   ]
  },
  {
   "cell_type": "code",
   "execution_count": null,
   "metadata": {},
   "outputs": [],
   "source": [
    "# Recursion function\n",
    "\n",
    "def recursion_func(k):\n",
    "  if(k > 0):\n",
    "    result = k + tri_recursion(k - 1)\n",
    "    print(result)\n",
    "  else:\n",
    "    result = 0\n",
    "  return result\n",
    "\n",
    "recursion_func(6)"
   ]
  },
  {
   "cell_type": "code",
   "execution_count": null,
   "metadata": {},
   "outputs": [],
   "source": [
    "import numpy as np \n",
    "\n",
    "dummy_array = np.array([1,5,2,8,3,-1,2])\n",
    "\n",
    "# Mean\n",
    "np.mean(dummy_array)\n",
    "\n",
    "## Unbiased variance (divisor = N - ddof)\n",
    "\n",
    "np.var(dummy_array, ddof=1)"
   ]
  },
  {
   "cell_type": "markdown",
   "metadata": {},
   "source": [
    "### Element wise multiplication and division for various combinations of vectors and matrices.\n"
   ]
  },
  {
   "cell_type": "code",
   "execution_count": 22,
   "metadata": {},
   "outputs": [
    {
     "name": "stdout",
     "output_type": "stream",
     "text": [
      "[[1 1]\n",
      " [2 2]] [1 2]\n",
      "\n",
      "[[1 1]\n",
      " [4 4]]\n",
      "\n",
      "[[1 2]\n",
      " [2 4]]\n"
     ]
    }
   ],
   "source": [
    "# Element wise multiplication and division for various combinations of vectors and matrices.\n",
    "\n",
    "import numpy as np \n",
    "\n",
    "vert_v1 = np.array([[1],[2]])\n",
    "vert_v2 = np.array([[3],[4]])\n",
    "\n",
    "v1*v2\n",
    "\n",
    "v1 = np.array([1,2])\n",
    "v2 = np.array([3,4])\n",
    "\n",
    "yo/lo\n",
    "\n",
    "## Element wise division of matrix by a matrix\n",
    "\n",
    "M1 = np.array([[1,1],[2,2]])\n",
    "M2 = np.array([[3,3],[4,4]])\n",
    "\n",
    "M1/M2\n",
    "\n",
    "print(M1, v1)\n",
    "\n",
    "print()\n",
    "print(M1*vert_v1)\n",
    "print()\n",
    "print(M1*v1)"
   ]
  },
  {
   "cell_type": "markdown",
   "metadata": {},
   "source": [
    "### Numpy package to compute eigenvalues and vectors"
   ]
  },
  {
   "cell_type": "code",
   "execution_count": 24,
   "metadata": {},
   "outputs": [
    {
     "name": "stdout",
     "output_type": "stream",
     "text": [
      "E-value: [11.  1.]\n",
      "E-vector [[ 0.89442719 -0.4472136 ]\n",
      " [ 0.4472136   0.89442719]]\n"
     ]
    }
   ],
   "source": [
    "import numpy as np\n",
    "from numpy.linalg import eig\n",
    "\n",
    "M1 = np.array([[9,4],[4,3]])\n",
    "\n",
    "w,v=eig(M1)\n",
    "print('E-value:', w)\n",
    "print('E-vector', v)"
   ]
  },
  {
   "cell_type": "markdown",
   "metadata": {},
   "source": [
    "### Concatenation of vectors to compute the matrix (relevant for projection onto a subspace)"
   ]
  },
  {
   "cell_type": "code",
   "execution_count": 78,
   "metadata": {},
   "outputs": [
    {
     "data": {
      "text/plain": [
       "array([[ 0, -1,  2,  0,  2],\n",
       "       [ 1, -3,  1, -1,  2],\n",
       "       [-3,  4,  1,  2,  1],\n",
       "       [-1, -3,  5,  0,  7]])"
      ]
     },
     "execution_count": 78,
     "metadata": {},
     "output_type": "execute_result"
    }
   ],
   "source": [
    "import numpy as np\n",
    "\n",
    "# Concatenation \n",
    "\n",
    "u1 = np.array([[0,-1,2,0,2]])\n",
    "u2 = np.array([[1,-3,1,-1,2]])\n",
    "u3 = np.array([[-3,4,1,2,1]])\n",
    "u4 = np.array([[-1,-3,5,0,7]])\n",
    "U = np.concatenate((u1,u2,u3,u4))\n",
    "\n",
    "U"
   ]
  },
  {
   "cell_type": "markdown",
   "metadata": {},
   "source": [
    "### Concatenation of vectors to a matrix to compute another matrix (data generation!!!)"
   ]
  },
  {
   "cell_type": "code",
   "execution_count": 1,
   "metadata": {},
   "outputs": [
    {
     "name": "stdout",
     "output_type": "stream",
     "text": [
      "[[ 1  2  3  4]\n",
      " [ 5  6  7  8]\n",
      " [ 9 10 11 12]\n",
      " [13 14 15 16]]\n"
     ]
    }
   ],
   "source": [
    "import numpy as np\n",
    "matrix = np.array([\n",
    "    [1, 2, 3, 4],\n",
    "    [5, 6, 7, 8],\n",
    "    [9, 10, 11, 12]\n",
    "])\n",
    "\n",
    "# Row vector of size (1, 4)\n",
    "row_vector = np.array([[13, 14, 15, 16]])\n",
    "\n",
    "# Concatenate the row vector to the matrix\n",
    "result = np.vstack((matrix, row_vector))\n",
    "\n",
    "print(result)"
   ]
  },
  {
   "cell_type": "markdown",
   "metadata": {},
   "source": [
    "### Inverse of a matrix"
   ]
  },
  {
   "cell_type": "code",
   "execution_count": 39,
   "metadata": {},
   "outputs": [
    {
     "data": {
      "text/plain": [
       "array([[ 0.83333333, -0.5       ],\n",
       "       [-0.5       ,  0.5       ]])"
      ]
     },
     "execution_count": 39,
     "metadata": {},
     "output_type": "execute_result"
    }
   ],
   "source": [
    "import numpy as np\n",
    "from numpy.linalg import inv\n",
    "\n",
    "A = np.array([[3,3],[3,5]])\n",
    "\n",
    "inv(A)"
   ]
  },
  {
   "cell_type": "markdown",
   "metadata": {},
   "source": [
    "### LU decomposition"
   ]
  },
  {
   "cell_type": "code",
   "execution_count": 22,
   "metadata": {},
   "outputs": [
    {
     "name": "stdout",
     "output_type": "stream",
     "text": [
      "[[ 1.          0.          0.          0.          0.        ]\n",
      " [ 1.          1.          0.          0.          0.        ]\n",
      " [-1.         -0.          1.          0.          0.        ]\n",
      " [ 1.         -0.         -0.33333333  1.          0.        ]\n",
      " [ 0.         -1.          0.33333333  0.5         1.        ]]\n",
      "[[ 2.          0.          1.          2.          0.        ]\n",
      " [ 0.         -1.         -1.         -1.          1.        ]\n",
      " [ 0.          0.          3.          1.          2.        ]\n",
      " [ 0.          0.          0.         -0.66666667  1.66666667]\n",
      " [ 0.          0.          0.          0.          1.5       ]]\n"
     ]
    },
    {
     "data": {
      "text/plain": [
       "6.000000000000002"
      ]
     },
     "execution_count": 22,
     "metadata": {},
     "output_type": "execute_result"
    }
   ],
   "source": [
    "import scipy\n",
    "import scipy.linalg as la\n",
    "\n",
    "A = np.array([[2,0, 1, 2, 0],[2, -1, 0, 1, 1],[0, 1, 2, 1, 2],[-2, 0, 2, -1, 2],[2,0,0,1,1]])\n",
    "\n",
    "P,L,U = la.lu(A)\n",
    "det = [1,1]\n",
    "for i in range(len(U)):\n",
    "    det[0] = det[0]*U[i,i]\n",
    "    det[1] = det[1]*L[i,i]\n",
    "\n",
    "print(L)\n",
    "print(U)\n",
    "determinant = det[0]*det[1]\n",
    "\n",
    "determinan"
   ]
  },
  {
   "cell_type": "markdown",
   "metadata": {},
   "source": [
    "### Matrix multiplication of a matrix and a vector"
   ]
  },
  {
   "cell_type": "code",
   "execution_count": 23,
   "metadata": {},
   "outputs": [
    {
     "name": "stdout",
     "output_type": "stream",
     "text": [
      "[[0.35]\n",
      " [0.4 ]\n",
      " [0.35]]\n",
      "\n",
      "[0.35 0.4  0.35]\n"
     ]
    }
   ],
   "source": [
    "import numpy as np \n",
    "\n",
    "matrix = np.array([[1/2,1/4,1/4],[1/2,0,1/2],[1/4,1/4,1/2]])\n",
    "\n",
    "# Multiplying a matrix with the row/column versions of the same vector. \n",
    "stat_pmf_col = np.transpose(np.array([[0.4,0.2,0.4]]))\n",
    "stat_pmf_row = np.array([0.4,0.2,0.4])\n",
    "\n",
    "# We get the same results but in the corresponding format. That is, the matmul function is agnostic to whether the vector being multiplied \n",
    "# is a row or a column vector.\n",
    "\n",
    "print(np.matmul(matrix,stat_pmf_col))\n",
    "print()\n",
    "print(np.matmul(matrix,stat_pmf_row))"
   ]
  },
  {
   "cell_type": "markdown",
   "metadata": {},
   "source": [
    "### Creating an array of equally spaced, customized numbers."
   ]
  },
  {
   "cell_type": "code",
   "execution_count": 25,
   "metadata": {},
   "outputs": [
    {
     "name": "stdout",
     "output_type": "stream",
     "text": [
      "[1 2 3 4 5 6 7 8 9]\n"
     ]
    }
   ],
   "source": [
    "import numpy as np \n",
    "\n",
    "# Start point, end point and step size.\n",
    "x = np.arange(1, 10, 1)\n",
    "\n",
    "print(x)"
   ]
  },
  {
   "cell_type": "markdown",
   "metadata": {},
   "source": [
    "### Array with specified no. of elements between start and end points."
   ]
  },
  {
   "cell_type": "code",
   "execution_count": 173,
   "metadata": {},
   "outputs": [
    {
     "data": {
      "text/plain": [
       "100"
      ]
     },
     "execution_count": 173,
     "metadata": {},
     "output_type": "execute_result"
    }
   ],
   "source": [
    "import numpy as np\n",
    "\n",
    "z = np.linspace(0, 1, 100)\n"
   ]
  },
  {
   "cell_type": "markdown",
   "metadata": {},
   "source": [
    "### Reshaping Matrices into different sizes"
   ]
  },
  {
   "cell_type": "code",
   "execution_count": 47,
   "metadata": {},
   "outputs": [
    {
     "name": "stdout",
     "output_type": "stream",
     "text": [
      "[[1]\n",
      " [2]\n",
      " [3]\n",
      " [2]\n",
      " [3]\n",
      " [4]]\n",
      "[[1 2 3]\n",
      " [2 3 4]]\n",
      "[[1 2 3 2 3 4]]\n",
      "[[1 2 3]\n",
      " [2 3 4]]\n",
      "[[1 2 3]\n",
      " [2 3 4]]\n"
     ]
    }
   ],
   "source": [
    "import numpy as np \n",
    "\n",
    "mat = np.array([[1,2,3],[2,3,4]])\n",
    "\n",
    "print(mat.reshape(6,1))\n",
    "print(mat.reshape(2,3))\n",
    "print(mat.reshape(1,6))\n",
    "\n",
    "# -1 means the appropriate dimension (rows/columns) such that the other specified rows/columns are possible. \n",
    "# E.g. below, no. of rows are of appropriate dimension (2), such that the no. of rows can be specified to be equal to 3. \n",
    "print(mat.reshape(-1,3))\n",
    "\n",
    "print(mat)"
   ]
  },
  {
   "cell_type": "markdown",
   "metadata": {},
   "source": [
    "### Converting a matrix/2D vector into a 1D vector"
   ]
  },
  {
   "cell_type": "code",
   "execution_count": 73,
   "metadata": {},
   "outputs": [
    {
     "name": "stdout",
     "output_type": "stream",
     "text": [
      "[[1 2 3]\n",
      " [2 3 4]]\n",
      "[[1 2 3 2 3 4]]\n",
      "[[1]\n",
      " [2]\n",
      " [3]\n",
      " [2]\n",
      " [3]\n",
      " [4]]\n",
      "\n",
      "[1 2 3 2 3 4]\n",
      "[1 2 3 2 3 4]\n",
      "[1 2 3 2 3 4]\n"
     ]
    },
    {
     "data": {
      "text/plain": [
       "array([1, 2, 3, 2, 3, 4])"
      ]
     },
     "execution_count": 73,
     "metadata": {},
     "output_type": "execute_result"
    }
   ],
   "source": [
    "import numpy as np\n",
    "mat = np.array([[1,2,3],[2,3,4]])\n",
    "rvect = mat.reshape(1,-1)\n",
    "cvect = mat.reshape(-1,1)\n",
    "print(mat)\n",
    "print(rvect)\n",
    "print(cvect)\n",
    "print()\n",
    "\n",
    "# Any 2D vector/matrix (in a row wise manner) is transformed into a 1D vector.\n",
    "print(mat.reshape(-1))\n",
    "print(rvect.reshape(-1))\n",
    "print(cvect.reshape(-1))"
   ]
  },
  {
   "cell_type": "markdown",
   "metadata": {},
   "source": [
    "### Conversion of a 2D row vector to a 2D column vector"
   ]
  },
  {
   "cell_type": "code",
   "execution_count": 57,
   "metadata": {},
   "outputs": [
    {
     "data": {
      "text/plain": [
       "array([1, 2, 3, 2, 3, 4])"
      ]
     },
     "execution_count": 57,
     "metadata": {},
     "output_type": "execute_result"
    }
   ],
   "source": [
    "import numpy as np\n",
    "mat = np.array([[1,2,3],[2,3,4]])\n",
    "mat = mat.reshape(1,-1)\n",
    "\n",
    "# Only 2D row vectors can be converted to 2D column vectors\n",
    "mat = np.transpose(mat)"
   ]
  },
  {
   "cell_type": "markdown",
   "metadata": {},
   "source": [
    "### Plot things one after the other to get them on the same plot."
   ]
  },
  {
   "cell_type": "markdown",
   "metadata": {},
   "source": [
    "### Lesson: Be cognizant of the data types you use as variables and make sure they are consistent with each other when you need them to be."
   ]
  },
  {
   "cell_type": "code",
   "execution_count": null,
   "metadata": {},
   "outputs": [],
   "source": [
    "import random as rd\n",
    "x = np.arange(1, 2, 0.1)\n",
    "\n",
    "# Convert x-data into 2D column vectors \n",
    "\n",
    "m = 2*rd.random()\n",
    "c = 10*rd.random()\n",
    "\n",
    "# y-data as 1D row vectors\n",
    "y = m*x+c \n",
    "y_prime = [0]*len(x)\n",
    "for i in range(len(x)):\n",
    "    y_prime[i] = y[i] + rd.random()\n",
    "\n",
    "# Here x is an numpy array, whereas y_prime is a list and this may cause problems later on."
   ]
  },
  {
   "cell_type": "markdown",
   "metadata": {},
   "source": [
    "### Lesson: Keep track of the dimensions of the vectors which you compute/use and make sure they are consistent when they need to be."
   ]
  },
  {
   "cell_type": "code",
   "execution_count": null,
   "metadata": {},
   "outputs": [],
   "source": [
    "# x_train is a 2D column vector\n",
    "\n",
    "x = np.arange(1, 2, 0.1)\n",
    "x_train = x[0:int(len(x)/2)].reshape(-1,1)\n",
    "\n",
    "y_prime = [0]*len(x)\n",
    "\n",
    "for i in range(len(x)):\n",
    "    y_prime[i] = y[i] + rd.random()\n",
    "\n",
    "y_prime = np.array(y_prime)\n",
    "\n",
    "# y_train is a 1D vector\n",
    "\n",
    "y_train = y_prime[0:int(len(y)/2)]\n",
    "\n",
    "y_trained = Model_m*x_train + Model_c\n",
    "\n",
    "# There will be errors in computing training error here.\n",
    "\n",
    "training_error = sum((y_trained - y_train)**2)/len(y_train)"
   ]
  },
  {
   "cell_type": "markdown",
   "metadata": {},
   "source": [
    "### Sophisticated random number generator"
   ]
  },
  {
   "cell_type": "code",
   "execution_count": 74,
   "metadata": {},
   "outputs": [
    {
     "data": {
      "text/plain": [
       "array([[0.71158878, 0.77908495],\n",
       "       [0.27257496, 0.23743479]])"
      ]
     },
     "execution_count": 74,
     "metadata": {},
     "output_type": "execute_result"
    }
   ],
   "source": [
    "import numpy as np\n",
    "rng = np.random.default_rng()\n",
    "rng.random()\n",
    "rng.random(10)\n",
    "rng.random([2,2])"
   ]
  },
  {
   "cell_type": "markdown",
   "metadata": {},
   "source": [
    "### Getting a matrix of zeros\n"
   ]
  },
  {
   "cell_type": "code",
   "execution_count": 76,
   "metadata": {},
   "outputs": [
    {
     "data": {
      "text/plain": [
       "array([[0., 0.],\n",
       "       [0., 0.],\n",
       "       [0., 0.],\n",
       "       [0., 0.],\n",
       "       [0., 0.],\n",
       "       [0., 0.],\n",
       "       [0., 0.]])"
      ]
     },
     "execution_count": 76,
     "metadata": {},
     "output_type": "execute_result"
    }
   ],
   "source": [
    "Simulation = np.zeros([7,2],)\n",
    "Simulation"
   ]
  },
  {
   "cell_type": "markdown",
   "metadata": {},
   "source": [
    "### Discrete PMF into CDF"
   ]
  },
  {
   "cell_type": "code",
   "execution_count": 82,
   "metadata": {},
   "outputs": [
    {
     "data": {
      "text/plain": [
       "array([0.35, 0.5 , 0.9 , 1.  ])"
      ]
     },
     "execution_count": 82,
     "metadata": {},
     "output_type": "execute_result"
    }
   ],
   "source": [
    "P = np.array([0.35,0.15,0.4,0.1])\n",
    "CDF = np.zeros(len(P),)\n",
    "for i in range(len(P)):\n",
    "    CDF[i] = sum(CDF[i-1:i])+P[i]\n",
    "CDF"
   ]
  },
  {
   "cell_type": "markdown",
   "metadata": {},
   "source": [
    "### Sorting the values of a numpy array"
   ]
  },
  {
   "cell_type": "code",
   "execution_count": 96,
   "metadata": {},
   "outputs": [
    {
     "data": {
      "text/plain": [
       "array([0.41449028, 0.62985961, 0.81927264])"
      ]
     },
     "execution_count": 96,
     "metadata": {},
     "output_type": "execute_result"
    }
   ],
   "source": [
    "import numpy as np\n",
    "\n",
    "array = np.array([rng.random(),rng.random(),rng.random()])\n",
    "np.sort(array)"
   ]
  },
  {
   "cell_type": "markdown",
   "metadata": {},
   "source": [
    "### Choosing a random element from an array/list"
   ]
  },
  {
   "cell_type": "code",
   "execution_count": 135,
   "metadata": {},
   "outputs": [
    {
     "name": "stdout",
     "output_type": "stream",
     "text": [
      "1 3\n"
     ]
    }
   ],
   "source": [
    "import random as r\n",
    "\n",
    "State_space_ls = [1,2,3]\n",
    "State_space = np.array([1,2,3])\n",
    "\n",
    "X_0 = r.choice(State_space_ls)\n",
    "X_1 = r.choice(State_space)\n",
    "\n",
    "print(X_0,X_1)"
   ]
  },
  {
   "cell_type": "markdown",
   "metadata": {},
   "source": [
    "### Counting the instances of a particular element in an array"
   ]
  },
  {
   "cell_type": "code",
   "execution_count": 142,
   "metadata": {},
   "outputs": [
    {
     "data": {
      "text/plain": [
       "2"
      ]
     },
     "execution_count": 142,
     "metadata": {},
     "output_type": "execute_result"
    }
   ],
   "source": [
    "import numpy as np\n",
    "\n",
    "X = np.array([0,1,2,4,0,2,1])\n",
    "no_of_1 = np.count_nonzero(X == 2)\n",
    "\n",
    "no_of_1"
   ]
  },
  {
   "cell_type": "markdown",
   "metadata": {},
   "source": [
    "### Integration with scipy"
   ]
  },
  {
   "cell_type": "code",
   "execution_count": 171,
   "metadata": {},
   "outputs": [
    {
     "name": "stdout",
     "output_type": "stream",
     "text": [
      "(0.3333333333333333, 3.700743415417188e-15)\n"
     ]
    }
   ],
   "source": [
    "import scipy\n",
    "from scipy.integrate import quad\n",
    "\n",
    "# quad is a general purpose function to carry out single variable integration\n",
    "\n",
    "def integrand(x):\n",
    "    return x**2\n",
    "\n",
    "print(quad(integrand, 0, 1))"
   ]
  },
  {
   "cell_type": "markdown",
   "metadata": {},
   "source": [
    "### Function to get the key of a particular value in a dictionary"
   ]
  },
  {
   "cell_type": "code",
   "execution_count": 288,
   "metadata": {},
   "outputs": [
    {
     "ename": "ValueError",
     "evalue": "1 is not in list",
     "output_type": "error",
     "traceback": [
      "\u001b[0;31m---------------------------------------------------------------------------\u001b[0m",
      "\u001b[0;31mValueError\u001b[0m                                Traceback (most recent call last)",
      "\u001b[1;32m/Users/paarthdudani/Desktop/All folders/Python files/Learning_ML/Useful_functions.ipynb Cell 64\u001b[0m line \u001b[0;36m<cell line: 26>\u001b[0;34m()\u001b[0m\n\u001b[1;32m     <a href='vscode-notebook-cell:/Users/paarthdudani/Desktop/All%20folders/Python%20files/Learning_ML/Useful_functions.ipynb#Y140sZmlsZQ%3D%3D?line=22'>23</a>\u001b[0m     \u001b[39melse\u001b[39;00m:\n\u001b[1;32m     <a href='vscode-notebook-cell:/Users/paarthdudani/Desktop/All%20folders/Python%20files/Learning_ML/Useful_functions.ipynb#Y140sZmlsZQ%3D%3D?line=23'>24</a>\u001b[0m         \u001b[39mprint\u001b[39m(\u001b[39m'\u001b[39m\u001b[39mThe given value is not present in the dictionary\u001b[39m\u001b[39m'\u001b[39m)\n\u001b[0;32m---> <a href='vscode-notebook-cell:/Users/paarthdudani/Desktop/All%20folders/Python%20files/Learning_ML/Useful_functions.ipynb#Y140sZmlsZQ%3D%3D?line=25'>26</a>\u001b[0m getKey(res, \u001b[39m2\u001b[39;49m)\n\u001b[1;32m     <a href='vscode-notebook-cell:/Users/paarthdudani/Desktop/All%20folders/Python%20files/Learning_ML/Useful_functions.ipynb#Y140sZmlsZQ%3D%3D?line=26'>27</a>\u001b[0m List_of_values \u001b[39m=\u001b[39m \u001b[39mlist\u001b[39m(res\u001b[39m.\u001b[39mvalues())\n\u001b[1;32m     <a href='vscode-notebook-cell:/Users/paarthdudani/Desktop/All%20folders/Python%20files/Learning_ML/Useful_functions.ipynb#Y140sZmlsZQ%3D%3D?line=27'>28</a>\u001b[0m List_of_keys \u001b[39m=\u001b[39m  \u001b[39mlist\u001b[39m(res\u001b[39m.\u001b[39mkeys())\n",
      "\u001b[1;32m/Users/paarthdudani/Desktop/All folders/Python files/Learning_ML/Useful_functions.ipynb Cell 64\u001b[0m line \u001b[0;36mgetKey\u001b[0;34m(dict, value)\u001b[0m\n\u001b[1;32m     <a href='vscode-notebook-cell:/Users/paarthdudani/Desktop/All%20folders/Python%20files/Learning_ML/Useful_functions.ipynb#Y140sZmlsZQ%3D%3D?line=18'>19</a>\u001b[0m \u001b[39mif\u001b[39;00m value \u001b[39min\u001b[39;00m List_of_values:\n\u001b[1;32m     <a href='vscode-notebook-cell:/Users/paarthdudani/Desktop/All%20folders/Python%20files/Learning_ML/Useful_functions.ipynb#Y140sZmlsZQ%3D%3D?line=19'>20</a>\u001b[0m     index_of_val \u001b[39m=\u001b[39m List_of_values\u001b[39m.\u001b[39mindex(value)\n\u001b[0;32m---> <a href='vscode-notebook-cell:/Users/paarthdudani/Desktop/All%20folders/Python%20files/Learning_ML/Useful_functions.ipynb#Y140sZmlsZQ%3D%3D?line=20'>21</a>\u001b[0m     key \u001b[39m=\u001b[39m List_of_keys\u001b[39m.\u001b[39;49mindex(index_of_val)\n\u001b[1;32m     <a href='vscode-notebook-cell:/Users/paarthdudani/Desktop/All%20folders/Python%20files/Learning_ML/Useful_functions.ipynb#Y140sZmlsZQ%3D%3D?line=21'>22</a>\u001b[0m     \u001b[39mreturn\u001b[39;00m key\n\u001b[1;32m     <a href='vscode-notebook-cell:/Users/paarthdudani/Desktop/All%20folders/Python%20files/Learning_ML/Useful_functions.ipynb#Y140sZmlsZQ%3D%3D?line=22'>23</a>\u001b[0m \u001b[39melse\u001b[39;00m:\n",
      "\u001b[0;31mValueError\u001b[0m: 1 is not in list"
     ]
    }
   ],
   "source": [
    "# Creating the diectionary\n",
    "res = {}\n",
    "keys = ['A', 'B', 'C', 'D']\n",
    "values = list(np.array([1,2,3,4]))\n",
    "\n",
    "for key in keys:\n",
    "    for value in values:\n",
    "        res[key] = value\n",
    "        values.remove(value)\n",
    "        break\n",
    "res\n",
    "\n",
    "# ## Getting the key for a particular value\n",
    "\n",
    "def getKey(dict, value):\n",
    "    List_of_keys = list(res.keys())\n",
    "    List_of_values = list(res.values())\n",
    "\n",
    "    if value in List_of_values:\n",
    "        index_of_val = List_of_values.index(value)\n",
    "        key = List_of_keys.index(index_of_val)\n",
    "        return key\n",
    "    else:\n",
    "        print('The given value is not present in the dictionary')\n",
    "\n",
    "getKey(res, 2)\n",
    "List_of_values = list(res.values())\n",
    "List_of_keys =  list(res.keys())\n",
    "List_of_keys[List_of_values.index(1)]"
   ]
  },
  {
   "cell_type": "markdown",
   "metadata": {},
   "source": [
    "### Assigning specific hash value to an object with a class"
   ]
  },
  {
   "cell_type": "code",
   "execution_count": 187,
   "metadata": {},
   "outputs": [
    {
     "name": "stderr",
     "output_type": "stream",
     "text": [
      "<>:9: SyntaxWarning: \"is\" with a literal. Did you mean \"==\"?\n",
      "<>:9: SyntaxWarning: \"is\" with a literal. Did you mean \"==\"?\n",
      "/var/folders/t_/cwzxhj6j76z7wcn70r3fk72m0000gn/T/ipykernel_4500/1560953965.py:9: SyntaxWarning: \"is\" with a literal. Did you mean \"==\"?\n",
      "  x is 1\n"
     ]
    },
    {
     "data": {
      "text/plain": [
       "False"
      ]
     },
     "execution_count": 187,
     "metadata": {},
     "output_type": "execute_result"
    }
   ],
   "source": [
    "class dummy:\n",
    "    def __init__(self,val=None):\n",
    "        self.val = val\n",
    "    def __hash__(self):\n",
    "        return 1\n",
    "\n",
    "x = dummy(6)\n",
    "hash(x) == hash(1)\n",
    "x is 1"
   ]
  },
  {
   "cell_type": "markdown",
   "metadata": {},
   "source": [
    "### Settting two objects equal"
   ]
  },
  {
   "cell_type": "code",
   "execution_count": 202,
   "metadata": {},
   "outputs": [
    {
     "data": {
      "text/plain": [
       "False"
      ]
     },
     "execution_count": 202,
     "metadata": {},
     "output_type": "execute_result"
    }
   ],
   "source": [
    "class dummy:\n",
    "    def __init__(self,val=None):\n",
    "        self.val = val\n",
    "    def __hash__(self):\n",
    "        return 1\n"
   ]
  },
  {
   "cell_type": "code",
   "execution_count": 244,
   "metadata": {},
   "outputs": [
    {
     "data": {
      "text/plain": [
       "False"
      ]
     },
     "execution_count": 244,
     "metadata": {},
     "output_type": "execute_result"
    }
   ],
   "source": [
    "res\n",
    "\n",
    "3 in res"
   ]
  },
  {
   "cell_type": "markdown",
   "metadata": {},
   "source": [
    "### Drawing a graph from adjacency matrix"
   ]
  },
  {
   "cell_type": "code",
   "execution_count": 296,
   "metadata": {},
   "outputs": [
    {
     "data": {
      "text/plain": [
       "array([[0, 1, 0, 1],\n",
       "       [1, 0, 1, 0],\n",
       "       [0, 1, 0, 1],\n",
       "       [1, 0, 1, 0]])"
      ]
     },
     "execution_count": 296,
     "metadata": {},
     "output_type": "execute_result"
    },
    {
     "data": {
      "image/png": "[encoded data removed]",
      "text/plain": [
       "<Figure size 640x480 with 1 Axes>"
      ]
     },
     "metadata": {},
     "output_type": "display_data"
    }
   ],
   "source": [
    "import networkx as nx\n",
    "import matplotlib.pyplot as plt\n",
    "\n",
    "G = nx.Graph()\n",
    "Adj_matrix = np.array([[0,1,0,1],[1,0,1,0],[0,1,0,1], [1,0,1,0]])\n",
    "order = np.shape(Adj_matrix)\n",
    "for i in range(order[0]):\n",
    "    for j in range(order[1]):\n",
    "        if Adj_matrix[i,j] == 1:\n",
    "            G.add_edge(i+1,j+1)\n",
    "\n",
    "\n",
    "\n",
    "nx.draw(G, font_weight = None)\n",
    "Adj_matrix"
   ]
  },
  {
   "cell_type": "markdown",
   "metadata": {},
   "source": [
    "## Function to rename any given file with given path and desired name."
   ]
  },
  {
   "cell_type": "code",
   "execution_count": 14,
   "metadata": {},
   "outputs": [
    {
     "name": "stdout",
     "output_type": "stream",
     "text": [
      "1606.04934v2.pdf\n"
     ]
    },
    {
     "ename": "FileNotFoundError",
     "evalue": "[Errno 2] No such file or directory: '1606.04934v2.pdf' -> 'IAF.pdf'",
     "output_type": "error",
     "traceback": [
      "\u001b[0;31m---------------------------------------------------------------------------\u001b[0m",
      "\u001b[0;31mFileNotFoundError\u001b[0m                         Traceback (most recent call last)",
      "Input \u001b[0;32mIn [14]\u001b[0m, in \u001b[0;36m<cell line: 16>\u001b[0;34m()\u001b[0m\n\u001b[1;32m     13\u001b[0m             exit\n\u001b[1;32m     14\u001b[0m     \u001b[38;5;28;01mreturn\u001b[39;00m \n\u001b[0;32m---> 16\u001b[0m \u001b[43mrename_function\u001b[49m\u001b[43m(\u001b[49m\u001b[38;5;124;43m'\u001b[39;49m\u001b[38;5;124;43m/Users/paarthdudani/Downloads/1606.04934v2.pdf\u001b[39;49m\u001b[38;5;124;43m'\u001b[39;49m\u001b[43m,\u001b[49m\u001b[38;5;124;43m'\u001b[39;49m\u001b[38;5;124;43m1606.04934v2.pdf\u001b[39;49m\u001b[38;5;124;43m'\u001b[39;49m\u001b[43m,\u001b[49m\u001b[38;5;124;43m'\u001b[39;49m\u001b[38;5;124;43mIAF.pdf\u001b[39;49m\u001b[38;5;124;43m'\u001b[39;49m\u001b[43m)\u001b[49m\n",
      "Input \u001b[0;32mIn [14]\u001b[0m, in \u001b[0;36mrename_function\u001b[0;34m(file_path, file_name, new_name)\u001b[0m\n\u001b[1;32m      9\u001b[0m \u001b[38;5;28;01mif\u001b[39;00m name \u001b[38;5;241m==\u001b[39m (file_name):\n\u001b[1;32m     10\u001b[0m     \u001b[38;5;28mprint\u001b[39m(file_name)\n\u001b[0;32m---> 11\u001b[0m     \u001b[43mos\u001b[49m\u001b[38;5;241;43m.\u001b[39;49m\u001b[43mrename\u001b[49m\u001b[43m(\u001b[49m\u001b[43mfile_name\u001b[49m\u001b[43m,\u001b[49m\u001b[43m \u001b[49m\u001b[43mnew_name\u001b[49m\u001b[43m)\u001b[49m\n\u001b[1;32m     12\u001b[0m \u001b[38;5;28;01melse\u001b[39;00m:\n\u001b[1;32m     13\u001b[0m     exit\n",
      "\u001b[0;31mFileNotFoundError\u001b[0m: [Errno 2] No such file or directory: '1606.04934v2.pdf' -> 'IAF.pdf'"
     ]
    }
   ],
   "source": [
    "# Function to rename any given file:\n",
    "\n",
    "import os\n",
    "import typing\n",
    "\n",
    "def rename_function(file_path:str, file_name:str, new_name:str) -> str:\n",
    "    curr_dir = os.path.dirname(file_path)\n",
    "    for name in os.listdir(curr_dir):\n",
    "        if name == (file_name):\n",
    "            print(file_name)\n",
    "            os.rename(file_name, new_name)\n",
    "        else:\n",
    "            exit\n",
    "    return \n",
    "\n",
    "rename_function('/Users/paarthdudani/Downloads/1606.04934v2.pdf','1606.04934v2.pdf','IAF.pdf')"
   ]
  },
  {
   "cell_type": "markdown",
   "metadata": {},
   "source": [
    "### Plotting vertically stacked plots"
   ]
  },
  {
   "cell_type": "code",
   "execution_count": null,
   "metadata": {},
   "outputs": [],
   "source": [
    "fig, axs = plt.subplots(2)\n",
    "fig.suptitle('Vertically stacked subplots')\n",
    "axs[0].plot(x,target_dist_unnorm_2(x))\n",
    "axs[1].hist(new_MC, bins=100,range=[-4, 4])"
   ]
  },
  {
   "cell_type": "markdown",
   "metadata": {},
   "source": [
    "### Turn y into a column vector\n"
   ]
  },
  {
   "cell_type": "code",
   "execution_count": 18,
   "metadata": {},
   "outputs": [
    {
     "data": {
      "text/plain": [
       "array([[1],\n",
       "       [2],\n",
       "       [3],\n",
       "       [4]])"
      ]
     },
     "execution_count": 18,
     "metadata": {},
     "output_type": "execute_result"
    }
   ],
   "source": [
    "y = np.array([1,2,3,4])\n",
    "y = y[:, np.newaxis]"
   ]
  },
  {
   "cell_type": "code",
   "execution_count": 8,
   "metadata": {},
   "outputs": [
    {
     "data": {
      "text/plain": [
       "array([[0., 0., 0., 0., 0., 0., 0., 0., 0., 1.]])"
      ]
     },
     "execution_count": 8,
     "metadata": {},
     "output_type": "execute_result"
    }
   ],
   "source": [
    "import tensorflow as tf\n",
    "\n",
    "tf.keras.utils.to_categorical(\n",
    "    [9], num_classes=None\n",
    ")"
   ]
  },
  {
   "cell_type": "code",
   "execution_count": 33,
   "metadata": {},
   "outputs": [
    {
     "name": "stdout",
     "output_type": "stream",
     "text": [
      "1 [0. 1. 0. 0. 0. 0. 0. 0. 0. 0.]\n"
     ]
    }
   ],
   "source": [
    "from keras.datasets import cifar10\n",
    "import tensorflow as tf\n",
    "from keras.datasets import mnist\n",
    "\n",
    "(x_train, y_train), (x_test, y_test) = mnist.load_data()\n",
    "\n",
    "# MNIST_net = Network()\n",
    "\n",
    "def k_to_1_categorizing(input):\n",
    "    \n",
    "    y_train_cat = np.zeros((len(input),10))\n",
    "    for i in range(len(input)):\n",
    "        index = input[i]\n",
    "        y_train_cat[i][index] = 1\n",
    "    return y_train_cat\n",
    "\n",
    "index = 59\n",
    "print(y_train[index],k_to_1_categorizing(y_train)[index])"
   ]
  },
  {
   "cell_type": "code",
   "execution_count": 37,
   "metadata": {},
   "outputs": [
    {
     "data": {
      "text/plain": [
       "array([[  0.,   0.,   0.,   0.,   0.,   0.,   0.,   0.,   0.,   0.,   0.,\n",
       "          0.,   0.,   0.,   0.,   0.,   0.,   0.,   0.,   0.,   0.,   0.,\n",
       "          0.,   0.,   0.,   0.,   0.,   0.],\n",
       "       [  0.,   0.,   0.,   0.,   0.,   0.,   0.,   0.,   0.,   0.,   0.,\n",
       "          0.,   0.,   0.,   0.,   0.,   0.,   0.,   0.,   0.,   0.,   0.,\n",
       "          0.,   0.,   0.,   0.,   0.,   0.],\n",
       "       [  0.,   0.,   0.,   0.,   0.,   0.,   0.,   0.,   0.,   0.,   0.,\n",
       "          0.,   0.,   0.,   0.,   0.,   0.,   0.,   0.,   0.,   0.,   0.,\n",
       "          0.,   0.,   0.,   0.,   0.,   0.],\n",
       "       [  0.,   0.,   0.,   0.,   0.,   0.,   0.,   0.,   0.,   0.,   0.,\n",
       "          0.,   0.,   0.,   0.,   0.,   0.,   0.,   0.,   0.,   0.,   0.,\n",
       "          0.,   0.,   0.,   0.,   0.,   0.],\n",
       "       [  0.,   0.,   0.,   0.,   0.,   0.,   0.,   0.,   0.,   0.,   0.,\n",
       "          0.,   0.,   0.,   0.,   0.,   0.,   0.,   0.,   0.,   0.,   0.,\n",
       "          0.,   0.,   0.,   0.,   0.,   0.],\n",
       "       [  0.,   0.,   0.,   0.,   0.,   0.,   0.,   0.,   0.,   0.,   0.,\n",
       "          0.,   3.,  18.,  18.,  18., 126., 136., 175.,  26., 166., 255.,\n",
       "        247., 127.,   0.,   0.,   0.,   0.],\n",
       "       [  0.,   0.,   0.,   0.,   0.,   0.,   0.,   0.,  30.,  36.,  94.,\n",
       "        154., 170., 253., 253., 253., 253., 253., 225., 172., 253., 242.,\n",
       "        195.,  64.,   0.,   0.,   0.,   0.],\n",
       "       [  0.,   0.,   0.,   0.,   0.,   0.,   0.,  49., 238., 253., 253.,\n",
       "        253., 253., 253., 253., 253., 253., 251.,  93.,  82.,  82.,  56.,\n",
       "         39.,   0.,   0.,   0.,   0.,   0.],\n",
       "       [  0.,   0.,   0.,   0.,   0.,   0.,   0.,  18., 219., 253., 253.,\n",
       "        253., 253., 253., 198., 182., 247., 241.,   0.,   0.,   0.,   0.,\n",
       "          0.,   0.,   0.,   0.,   0.,   0.],\n",
       "       [  0.,   0.,   0.,   0.,   0.,   0.,   0.,   0.,  80., 156., 107.,\n",
       "        253., 253., 205.,  11.,   0.,  43., 154.,   0.,   0.,   0.,   0.,\n",
       "          0.,   0.,   0.,   0.,   0.,   0.],\n",
       "       [  0.,   0.,   0.,   0.,   0.,   0.,   0.,   0.,   0.,  14.,   1.,\n",
       "        154., 253.,  90.,   0.,   0.,   0.,   0.,   0.,   0.,   0.,   0.,\n",
       "          0.,   0.,   0.,   0.,   0.,   0.],\n",
       "       [  0.,   0.,   0.,   0.,   0.,   0.,   0.,   0.,   0.,   0.,   0.,\n",
       "        139., 253., 190.,   2.,   0.,   0.,   0.,   0.,   0.,   0.,   0.,\n",
       "          0.,   0.,   0.,   0.,   0.,   0.],\n",
       "       [  0.,   0.,   0.,   0.,   0.,   0.,   0.,   0.,   0.,   0.,   0.,\n",
       "         11., 190., 253.,  70.,   0.,   0.,   0.,   0.,   0.,   0.,   0.,\n",
       "          0.,   0.,   0.,   0.,   0.,   0.],\n",
       "       [  0.,   0.,   0.,   0.,   0.,   0.,   0.,   0.,   0.,   0.,   0.,\n",
       "          0.,  35., 241., 225., 160., 108.,   1.,   0.,   0.,   0.,   0.,\n",
       "          0.,   0.,   0.,   0.,   0.,   0.],\n",
       "       [  0.,   0.,   0.,   0.,   0.,   0.,   0.,   0.,   0.,   0.,   0.,\n",
       "          0.,   0.,  81., 240., 253., 253., 119.,  25.,   0.,   0.,   0.,\n",
       "          0.,   0.,   0.,   0.,   0.,   0.],\n",
       "       [  0.,   0.,   0.,   0.,   0.,   0.,   0.,   0.,   0.,   0.,   0.,\n",
       "          0.,   0.,   0.,  45., 186., 253., 253., 150.,  27.,   0.,   0.,\n",
       "          0.,   0.,   0.,   0.,   0.,   0.],\n",
       "       [  0.,   0.,   0.,   0.,   0.,   0.,   0.,   0.,   0.,   0.,   0.,\n",
       "          0.,   0.,   0.,   0.,  16.,  93., 252., 253., 187.,   0.,   0.,\n",
       "          0.,   0.,   0.,   0.,   0.,   0.],\n",
       "       [  0.,   0.,   0.,   0.,   0.,   0.,   0.,   0.,   0.,   0.,   0.,\n",
       "          0.,   0.,   0.,   0.,   0.,   0., 249., 253., 249.,  64.,   0.,\n",
       "          0.,   0.,   0.,   0.,   0.,   0.],\n",
       "       [  0.,   0.,   0.,   0.,   0.,   0.,   0.,   0.,   0.,   0.,   0.,\n",
       "          0.,   0.,   0.,  46., 130., 183., 253., 253., 207.,   2.,   0.,\n",
       "          0.,   0.,   0.,   0.,   0.,   0.],\n",
       "       [  0.,   0.,   0.,   0.,   0.,   0.,   0.,   0.,   0.,   0.,   0.,\n",
       "          0.,  39., 148., 229., 253., 253., 253., 250., 182.,   0.,   0.,\n",
       "          0.,   0.,   0.,   0.,   0.,   0.],\n",
       "       [  0.,   0.,   0.,   0.,   0.,   0.,   0.,   0.,   0.,   0.,  24.,\n",
       "        114., 221., 253., 253., 253., 253., 201.,  78.,   0.,   0.,   0.,\n",
       "          0.,   0.,   0.,   0.,   0.,   0.],\n",
       "       [  0.,   0.,   0.,   0.,   0.,   0.,   0.,   0.,  23.,  66., 213.,\n",
       "        253., 253., 253., 253., 198.,  81.,   2.,   0.,   0.,   0.,   0.,\n",
       "          0.,   0.,   0.,   0.,   0.,   0.],\n",
       "       [  0.,   0.,   0.,   0.,   0.,   0.,  18., 171., 219., 253., 253.,\n",
       "        253., 253., 195.,  80.,   9.,   0.,   0.,   0.,   0.,   0.,   0.,\n",
       "          0.,   0.,   0.,   0.,   0.,   0.],\n",
       "       [  0.,   0.,   0.,   0.,  55., 172., 226., 253., 253., 253., 253.,\n",
       "        244., 133.,  11.,   0.,   0.,   0.,   0.,   0.,   0.,   0.,   0.,\n",
       "          0.,   0.,   0.,   0.,   0.,   0.],\n",
       "       [  0.,   0.,   0.,   0., 136., 253., 253., 253., 212., 135., 132.,\n",
       "         16.,   0.,   0.,   0.,   0.,   0.,   0.,   0.,   0.,   0.,   0.,\n",
       "          0.,   0.,   0.,   0.,   0.,   0.],\n",
       "       [  0.,   0.,   0.,   0.,   0.,   0.,   0.,   0.,   0.,   0.,   0.,\n",
       "          0.,   0.,   0.,   0.,   0.,   0.,   0.,   0.,   0.,   0.,   0.,\n",
       "          0.,   0.,   0.,   0.,   0.,   0.],\n",
       "       [  0.,   0.,   0.,   0.,   0.,   0.,   0.,   0.,   0.,   0.,   0.,\n",
       "          0.,   0.,   0.,   0.,   0.,   0.,   0.,   0.,   0.,   0.,   0.,\n",
       "          0.,   0.,   0.,   0.,   0.,   0.],\n",
       "       [  0.,   0.,   0.,   0.,   0.,   0.,   0.,   0.,   0.,   0.,   0.,\n",
       "          0.,   0.,   0.,   0.,   0.,   0.,   0.,   0.,   0.,   0.,   0.,\n",
       "          0.,   0.,   0.,   0.,   0.,   0.]], dtype=float32)"
      ]
     },
     "execution_count": 37,
     "metadata": {},
     "output_type": "execute_result"
    }
   ],
   "source": [
    "x_train[0].astype('float32')"
   ]
  },
  {
   "cell_type": "markdown",
   "metadata": {},
   "source": [
    "### Creating a file in the current directory"
   ]
  },
  {
   "cell_type": "code",
   "execution_count": null,
   "metadata": {},
   "outputs": [],
   "source": [
    "import os \n",
    "\n",
    "file_path = '/Users/paarthdudani/Desktop/All folders/Python files/Thesis Code/Exponential pilot code/SNRE_B.ipynb'\n",
    "if os.path.exists(file_path):\n",
    "    print('file already exists')\n",
    "else:\n",
    "    # create a file\n",
    "    with open(file_path, 'w') as fp:\n",
    "        # uncomment if you want empty file\n",
    "        fp.write('')"
   ]
  },
  {
   "cell_type": "markdown",
   "metadata": {},
   "source": [
    "### Checking the version of a library"
   ]
  },
  {
   "cell_type": "code",
   "execution_count": 38,
   "metadata": {},
   "outputs": [
    {
     "name": "stdout",
     "output_type": "stream",
     "text": [
      "1.26.4\n"
     ]
    }
   ],
   "source": [
    "import numpy\n",
    "print(numpy.__version__)"
   ]
  },
  {
   "cell_type": "markdown",
   "metadata": {},
   "source": [
    "### Smart way of plotting"
   ]
  },
  {
   "cell_type": "code",
   "execution_count": null,
   "metadata": {},
   "outputs": [],
   "source": [
    "fig, ax = plt.subplots(4, 6, sharex=True, sharey=True, figsize=(12,8)) \n",
    "for i in range(0, 24):\n",
    "     row, col = i//6, i%6\n",
    "     print(col)\n",
    "     ax[row][col].imshow(trainset.data[i])\n",
    "plt.show()"
   ]
  },
  {
   "cell_type": "markdown",
   "metadata": {},
   "source": [
    "### Seeding to fix the random no. generator and reproducing a randomly generated array"
   ]
  },
  {
   "cell_type": "code",
   "execution_count": 42,
   "metadata": {},
   "outputs": [
    {
     "name": "stdout",
     "output_type": "stream",
     "text": [
      "[[3.08528257 0.0830078  2.53459294 2.99521553 1.99402805 0.89918658]\n",
      " [0.79225146 3.04212285 0.67644335 0.35335926 2.74143927 3.81357338]\n",
      " [0.01579307 2.04876905 3.25048385 2.45010427 2.88702127 1.16750427]\n",
      " [3.67109649 2.85830313 2.17017747 0.56868019 1.49336304 2.69653446]\n",
      " [1.7673327  1.73605597 2.47106791 2.05255297 2.60158873 2.40415581]\n",
      " [3.22089279 2.08658861 3.63459552 1.27694436 0.3618374  1.20280023]]\n"
     ]
    },
    {
     "data": {
      "text/plain": [
       "array([[6.17056515, 0.16601559, 5.06918588, 5.99043106, 3.9880561 ,\n",
       "        1.79837316],\n",
       "       [1.58450292, 6.0842457 , 1.35288669, 0.70671851, 5.48287855,\n",
       "        7.62714677],\n",
       "       [0.03158613, 4.09753811, 6.50096769, 4.90020853, 5.77404254,\n",
       "        2.33500855],\n",
       "       [7.34219298, 5.71660627, 4.34035494, 1.13736038, 2.98672608,\n",
       "        5.39306892],\n",
       "       [3.5346654 , 3.47211195, 4.94213583, 4.10510594, 5.20317746,\n",
       "        4.80831163],\n",
       "       [6.44178557, 4.17317722, 7.26919105, 2.55388871, 0.72367479,\n",
       "        2.40560045]])"
      ]
     },
     "execution_count": 42,
     "metadata": {},
     "output_type": "execute_result"
    }
   ],
   "source": [
    "np.random.seed(10)\n",
    "a = 4*np.random.rand(6,6)\n",
    "print(a)\n",
    "\n",
    "np.random.seed(10)\n",
    "a"
   ]
  },
  {
   "cell_type": "markdown",
   "metadata": {},
   "source": [
    "### Extracting all zip files in a zip file with given path into the current directory"
   ]
  },
  {
   "cell_type": "code",
   "execution_count": 43,
   "metadata": {},
   "outputs": [],
   "source": [
    "from zipfile import ZipFile \n",
    "  \n",
    "# loading the temp.zip and creating a zip object \n",
    "with ZipFile('/Users/paarthdudani/Downloads/connectionist+bench+sonar+mines+vs+rocks.zip', 'r') as zObject: \n",
    "    zObject.extractall() \n"
   ]
  },
  {
   "cell_type": "markdown",
   "metadata": {},
   "source": [
    "### Random seed for pytorch"
   ]
  },
  {
   "cell_type": "code",
   "execution_count": null,
   "metadata": {},
   "outputs": [],
   "source": [
    "torch.manual_seed(0)\n",
    "theta = prior.sample((10,))\n",
    "np.random.seed(1)\n",
    "x = simulator(theta)\n",
    "np.random.seed(1)\n",
    "torch.manual_seed(0)\n",
    "\n",
    "x"
   ]
  },
  {
   "cell_type": "markdown",
   "metadata": {},
   "source": [
    "### Make a child class inherit all the properties and methods of the parent class"
   ]
  },
  {
   "cell_type": "code",
   "execution_count": 1,
   "metadata": {},
   "outputs": [
    {
     "data": {
      "text/plain": [
       "'yo'"
      ]
     },
     "execution_count": 1,
     "metadata": {},
     "output_type": "execute_result"
    }
   ],
   "source": [
    "class Parent:\n",
    "  def __init__(self, txt):\n",
    "    self.message = txt\n",
    "\n",
    "  def printmessage(self):\n",
    "    print(self.message)\n",
    "\n",
    "class Child(Parent):\n",
    "    def __init__(self,text):\n",
    "        super().__init__(text)\n",
    "\n",
    "kid = Child('yo')\n",
    "kid.message"
   ]
  },
  {
   "cell_type": "markdown",
   "metadata": {},
   "source": [
    "### Class decorators"
   ]
  },
  {
   "cell_type": "code",
   "execution_count": 2,
   "metadata": {},
   "outputs": [
    {
     "data": {
      "text/plain": [
       "'yo.lo@gmail.com'"
      ]
     },
     "execution_count": 2,
     "metadata": {},
     "output_type": "execute_result"
    }
   ],
   "source": [
    "class Employee: \n",
    "    def __init__(self,first,last):\n",
    "        self.first = first\n",
    "        self.last = last\n",
    "\n",
    "    @property\n",
    "    def email(self):\n",
    "        return '{}.{}@gmail.com'.format(self.first, self.last)\n",
    "\n",
    "    @property\n",
    "    def fullname(self):\n",
    "        return '{} {}'.format(self.first, self.last)\n",
    "\n",
    "    @fullname.setter\n",
    "    def fullname(self,name):\n",
    "        first, last = name.split(' ')\n",
    "        self.first = first\n",
    "        self.last = last\n",
    "\n",
    "emp_1 = Employee('John', 'Smith')\n",
    "\n",
    "emp_1.fullname = 'yo lo'\n",
    "\n",
    "emp_1.email"
   ]
  },
  {
   "cell_type": "markdown",
   "metadata": {},
   "source": [
    "### Derivative with autograd"
   ]
  },
  {
   "cell_type": "code",
   "execution_count": 78,
   "metadata": {},
   "outputs": [
    {
     "data": {
      "image/png": "[encoded data removed]",
      "text/plain": [
       "<Figure size 800x600 with 1 Axes>"
      ]
     },
     "metadata": {},
     "output_type": "display_data"
    }
   ],
   "source": [
    "import matplotlib.pyplot as plt\n",
    "import autograd.numpy as np\n",
    "from autograd import elementwise_grad\n",
    "\n",
    "fig, ax = plt.subplots(figsize=(8, 6))\n",
    "\n",
    "x = np.linspace(-4, 4, 1000)\n",
    "\n",
    "my_func = np.exp\n",
    "ax.plot(x, my_func(2*x))\n",
    "for _ in range(1):\n",
    "    my_func = elementwise_grad(my_func)\n",
    "    ax.plot(x, my_func(x))"
   ]
  },
  {
   "cell_type": "markdown",
   "metadata": {},
   "source": [
    "## Iterating a for loop in the backwards direction"
   ]
  },
  {
   "cell_type": "code",
   "execution_count": 5,
   "metadata": {},
   "outputs": [
    {
     "name": "stdout",
     "output_type": "stream",
     "text": [
      "3\n",
      "2\n",
      "1\n"
     ]
    }
   ],
   "source": [
    "repetitions = 3\n",
    "for i in range(repetitions, 0, -1):\n",
    "    print(i)"
   ]
  },
  {
   "cell_type": "markdown",
   "metadata": {},
   "source": [
    "### Calling a function within a function; wrapper"
   ]
  },
  {
   "cell_type": "code",
   "execution_count": 9,
   "metadata": {},
   "outputs": [
    {
     "name": "stdout",
     "output_type": "stream",
     "text": [
      "yo from D\n",
      "yo\n",
      "bye from D\n"
     ]
    }
   ],
   "source": [
    "def positive_input(func):\n",
    "    def wrapper(x):\n",
    "        if x <= 0:\n",
    "            raise ValueError(\"Input must be positive\")\n",
    "        return func(x)\n",
    "    return wrapper\n",
    "\n",
    "@positive_input\n",
    "def square(x):\n",
    "    return x**2\n"
   ]
  },
  {
   "cell_type": "markdown",
   "metadata": {},
   "source": [
    "### More compact way to create dictionaries"
   ]
  },
  {
   "cell_type": "code",
   "execution_count": 4,
   "metadata": {},
   "outputs": [
    {
     "data": {
      "text/plain": [
       "{'a': 1, 'b': 2, 'c': 3, 'd': 4, 'e': 5}"
      ]
     },
     "execution_count": 4,
     "metadata": {},
     "output_type": "execute_result"
    }
   ],
   "source": [
    "list1 = ['a','b','c','d','e']\n",
    "list2 = [1,2,3,4,5]\n",
    "\n",
    "pair_list = zip(list1,list2)\n",
    "\n",
    "my_dict = {}\n",
    "for name, value in pair_list:\n",
    "    my_dict[name] = value\n",
    "\n",
    "my_dict"
   ]
  },
  {
   "cell_type": "markdown",
   "metadata": {},
   "source": [
    "### List and dictionary comprehensions!"
   ]
  },
  {
   "cell_type": "code",
   "execution_count": 8,
   "metadata": {},
   "outputs": [
    {
     "name": "stdout",
     "output_type": "stream",
     "text": [
      "[1, 4, 7, 10]\n",
      "[('a', '0'), ('a', '1'), ('a', '2'), ('a', '3'), ('b', '0'), ('b', '1'), ('b', '2'), ('b', '3'), ('c', '0'), ('c', '1'), ('c', '2'), ('c', '3'), ('d', '0'), ('d', '1'), ('d', '2'), ('d', '3')]\n"
     ]
    },
    {
     "data": {
      "text/plain": [
       "{'b': 2, 'c': 3, 'd': 4, 'e': 5}"
      ]
     },
     "execution_count": 8,
     "metadata": {},
     "output_type": "execute_result"
    }
   ],
   "source": [
    "nums = [1,2,3,4,5,6,7,8,9,10]\n",
    "print([n for n in nums if n%3 == 1])\n",
    "\n",
    "\n",
    "string = 'abcd'\n",
    "num = '0123'\n",
    "\n",
    "print([(s,n) for s in string for n in num])\n",
    "\n",
    "# Dictionary comprehension\n",
    "list1 = ['a','b','c','d','e']\n",
    "list2 = [1,2,3,4,5]\n",
    "\n",
    "pair_list = zip(list1,list2)\n",
    "\n",
    "\n",
    "{name:value for name, value in pair_list if name !='a'}"
   ]
  },
  {
   "cell_type": "markdown",
   "metadata": {},
   "source": [
    "### Downgrading numpy"
   ]
  },
  {
   "cell_type": "code",
   "execution_count": null,
   "metadata": {},
   "outputs": [],
   "source": [
    "pip install --upgrade numpy==x.y.z"
   ]
  },
  {
   "cell_type": "markdown",
   "metadata": {},
   "source": [
    "### Upgrading any file"
   ]
  },
  {
   "cell_type": "code",
   "execution_count": 9,
   "metadata": {},
   "outputs": [
    {
     "ename": "SyntaxError",
     "evalue": "invalid syntax (3897541611.py, line 1)",
     "output_type": "error",
     "traceback": [
      "\u001b[0;36m  Input \u001b[0;32mIn [9]\u001b[0;36m\u001b[0m\n\u001b[0;31m    pip install -U file_name\u001b[0m\n\u001b[0m        ^\u001b[0m\n\u001b[0;31mSyntaxError\u001b[0m\u001b[0;31m:\u001b[0m invalid syntax\n"
     ]
    }
   ],
   "source": [
    "pip install -U file_name\n",
    "\n",
    "# Show the full list of items intsalled with pip\n",
    "\n",
    "pip list show"
   ]
  },
  {
   "cell_type": "markdown",
   "metadata": {},
   "source": [
    "### squeeze method! To remove all the 1 dimensions or boxes"
   ]
  },
  {
   "cell_type": "code",
   "execution_count": 20,
   "metadata": {},
   "outputs": [
    {
     "name": "stdout",
     "output_type": "stream",
     "text": [
      "(1, 2, 3) (2, 3)\n",
      "\n",
      "(1, 2, 1, 4) (2, 4)\n"
     ]
    }
   ],
   "source": [
    "import numpy as np \n",
    "\n",
    "in_arr = np.array([[[2, 2, 2], [2, 2, 2]]]) \n",
    "print(np.shape(in_arr), np.shape(in_arr.squeeze()))\n",
    "\n",
    "print()\n",
    "\n",
    "in_arr = np.arange(8).reshape(1, 2, 1, 4)\n",
    "print(np.shape(in_arr), np.shape(in_arr.squeeze()))"
   ]
  },
  {
   "cell_type": "markdown",
   "metadata": {},
   "source": [
    "### Have parameters as 'column vector' tensors, that is (n,1) shaped arrays and not as 'row vector' tensors or (1,n) shaped arrays. "
   ]
  },
  {
   "cell_type": "code",
   "execution_count": 56,
   "metadata": {},
   "outputs": [
    {
     "name": "stdout",
     "output_type": "stream",
     "text": [
      "torch.Size([3, 2])\n",
      "torch.Size([3, 200])\n"
     ]
    },
    {
     "ename": "ValueError",
     "evalue": "operands could not be broadcast together with shapes (3,) (200,) ",
     "output_type": "error",
     "traceback": [
      "\u001b[0;31m---------------------------------------------------------------------------\u001b[0m",
      "\u001b[0;31mValueError\u001b[0m                                Traceback (most recent call last)",
      "Input \u001b[0;32mIn [56]\u001b[0m, in \u001b[0;36m<cell line: 31>\u001b[0;34m()\u001b[0m\n\u001b[1;32m     28\u001b[0m \u001b[38;5;28mprint\u001b[39m(np\u001b[38;5;241m.\u001b[39mshape(torch\u001b[38;5;241m.\u001b[39mexp(\u001b[38;5;241m-\u001b[39mt\u001b[38;5;241m/\u001b[39mtheta[:,\u001b[38;5;241m0\u001b[39m]\u001b[38;5;241m.\u001b[39mreshape(\u001b[38;5;241m-\u001b[39m\u001b[38;5;241m1\u001b[39m,\u001b[38;5;241m1\u001b[39m))))\n\u001b[1;32m     30\u001b[0m \u001b[38;5;66;03m# row vector\u001b[39;00m\n\u001b[0;32m---> 31\u001b[0m np\u001b[38;5;241m.\u001b[39mshape(torch\u001b[38;5;241m.\u001b[39mexp(\u001b[38;5;241;43m-\u001b[39;49m\u001b[43mt\u001b[49m\u001b[38;5;241;43m/\u001b[39;49m\u001b[43mtheta\u001b[49m\u001b[43m[\u001b[49m\u001b[43m:\u001b[49m\u001b[43m,\u001b[49m\u001b[38;5;241;43m0\u001b[39;49m\u001b[43m]\u001b[49m))\n",
      "File \u001b[0;32m~/anaconda3/lib/python3.9/site-packages/torch/_tensor.py:41\u001b[0m, in \u001b[0;36m_handle_torch_function_and_wrap_type_error_to_not_implemented.<locals>.wrapped\u001b[0;34m(*args, **kwargs)\u001b[0m\n\u001b[1;32m     39\u001b[0m     \u001b[38;5;28;01mif\u001b[39;00m has_torch_function(args):\n\u001b[1;32m     40\u001b[0m         \u001b[38;5;28;01mreturn\u001b[39;00m handle_torch_function(wrapped, args, \u001b[38;5;241m*\u001b[39margs, \u001b[38;5;241m*\u001b[39m\u001b[38;5;241m*\u001b[39mkwargs)\n\u001b[0;32m---> 41\u001b[0m     \u001b[38;5;28;01mreturn\u001b[39;00m \u001b[43mf\u001b[49m\u001b[43m(\u001b[49m\u001b[38;5;241;43m*\u001b[39;49m\u001b[43margs\u001b[49m\u001b[43m,\u001b[49m\u001b[43m \u001b[49m\u001b[38;5;241;43m*\u001b[39;49m\u001b[38;5;241;43m*\u001b[39;49m\u001b[43mkwargs\u001b[49m\u001b[43m)\u001b[49m\n\u001b[1;32m     42\u001b[0m \u001b[38;5;28;01mexcept\u001b[39;00m \u001b[38;5;167;01mTypeError\u001b[39;00m:\n\u001b[1;32m     43\u001b[0m     \u001b[38;5;28;01mreturn\u001b[39;00m \u001b[38;5;28mNotImplemented\u001b[39m\n",
      "File \u001b[0;32m~/anaconda3/lib/python3.9/site-packages/torch/_tensor.py:966\u001b[0m, in \u001b[0;36mTensor.__rdiv__\u001b[0;34m(self, other)\u001b[0m\n\u001b[1;32m    964\u001b[0m \u001b[38;5;129m@_handle_torch_function_and_wrap_type_error_to_not_implemented\u001b[39m\n\u001b[1;32m    965\u001b[0m \u001b[38;5;28;01mdef\u001b[39;00m \u001b[38;5;21m__rdiv__\u001b[39m(\u001b[38;5;28mself\u001b[39m, other):\n\u001b[0;32m--> 966\u001b[0m     \u001b[38;5;28;01mreturn\u001b[39;00m \u001b[38;5;28;43mself\u001b[39;49m\u001b[38;5;241;43m.\u001b[39;49m\u001b[43mreciprocal\u001b[49m\u001b[43m(\u001b[49m\u001b[43m)\u001b[49m\u001b[43m \u001b[49m\u001b[38;5;241;43m*\u001b[39;49m\u001b[43m \u001b[49m\u001b[43mother\u001b[49m\n",
      "\u001b[0;31mValueError\u001b[0m: operands could not be broadcast together with shapes (3,) (200,) "
     ]
    }
   ],
   "source": [
    "import torch\n",
    "from torch.distributions import Uniform\n",
    "\n",
    "n = 200\n",
    "t = np.linspace(0,10,n)\n",
    "# Define the prior\n",
    "\n",
    "class WrappedUniform(Uniform):\n",
    "    def __init__(self, *args, **kwargs):\n",
    "        super().__init__(*args, **kwargs)\n",
    "    \n",
    "    @staticmethod\n",
    "    def log_prob(*args, **kwargs):\n",
    "        log_probs = Uniform.log_prob(*args, **kwargs)\n",
    "        return log_probs.squeeze()\n",
    "\n",
    "# 2D prior\n",
    "uni_prior_2D = WrappedUniform(torch.tensor([1, 2.0]), torch.tensor([5.0,5.0]))\n",
    "\n",
    "proposal = uni_prior_2D\n",
    "\n",
    "# simulator = lambda theta: ((1/theta)*torch.sin(-t/theta) + 0.05*torch.rand_like(theta)).float()\n",
    "\n",
    "theta = proposal.sample((3,))\n",
    "print(np.shape(theta))\n",
    "\n",
    "# column vector\n",
    "print(np.shape(torch.exp(-t/theta[:,0].reshape(-1,1))))\n",
    "\n",
    "# row vector\n",
    "np.shape(torch.exp(-t/theta[:,0]))"
   ]
  },
  {
   "cell_type": "markdown",
   "metadata": {},
   "source": [
    "### ODE solve takes arguments (parameter set values) in the form of a row vector"
   ]
  },
  {
   "cell_type": "code",
   "execution_count": null,
   "metadata": {},
   "outputs": [],
   "source": [
    "# have to convert a (1,2) vector into a row vector\n",
    "\n",
    "arg = prior.sample((1,)).squeeze()\n",
    "\n",
    "print(true_params)\n",
    "true_data = solve_ode(arg, t)"
   ]
  },
  {
   "cell_type": "code",
   "execution_count": 30,
   "metadata": {},
   "outputs": [
    {
     "data": {
      "text/plain": [
       "'/Users/paarthdudani/Desktop/All folders/Python files/Learning_ML'"
      ]
     },
     "execution_count": 30,
     "metadata": {},
     "output_type": "execute_result"
    }
   ],
   "source": [
    "import os\n",
    "\n",
    "os.getcwd()"
   ]
  },
  {
   "cell_type": "markdown",
   "metadata": {},
   "source": [
    "### Computing the gradient for a vector with pytorch!! This is func.grad and NOT autograd.grad"
   ]
  },
  {
   "cell_type": "code",
   "execution_count": 76,
   "metadata": {},
   "outputs": [
    {
     "name": "stdout",
     "output_type": "stream",
     "text": [
      "tensor([0.9994, 0.6627, 0.9849, 0.4884, 0.9982])\n",
      "tensor([0.9994, 0.6627, 0.9849, 0.4884, 0.9982])\n",
      "tensor([0.9994, 0.6627, 0.9849, 0.4884, 0.9982])\n"
     ]
    }
   ],
   "source": [
    "import torch\n",
    "# from torch.autograd import grad\n",
    "from torch.func import grad, vmap, jacrev\n",
    "import numpy as np\n",
    "\n",
    "\n",
    "# torch.manual_seed(0)\n",
    "x = torch.randn(5)\n",
    "def sinu(x):\n",
    "    return torch.sin(x)\n",
    "\n",
    "cos_x = vmap(grad(sinu))(x)\n",
    "\n",
    "## Alternative\n",
    "cos_x_2 = jacrev(sinu)(x)\n",
    "cos_x_2 = vmap(torch.dot, in_dims=(0,None))(cos_x_2, v)\n",
    "print(cos_x)\n",
    "print(np.cos(x))\n",
    "print(cos_x_2)\n",
    "\n",
    "v =torch.ones(5)\n",
    "\n"
   ]
  },
  {
   "cell_type": "markdown",
   "metadata": {},
   "source": [
    "### Getting a tensor output"
   ]
  },
  {
   "cell_type": "code",
   "execution_count": 98,
   "metadata": {},
   "outputs": [
    {
     "data": {
      "text/plain": [
       "torch.Size([500])"
      ]
     },
     "execution_count": 98,
     "metadata": {},
     "output_type": "execute_result"
    },
    {
     "data": {
      "image/png": "[encoded data removed]",
      "text/plain": [
       "<Figure size 640x480 with 3 Axes>"
      ]
     },
     "metadata": {},
     "output_type": "display_data"
    }
   ],
   "source": [
    "# As long as the input is a tensor, operating on it with a numpy function still gives a tensor.\n",
    "\n",
    "def target_dist_unnorm(x):\n",
    "    return np.exp(-x**2)*(2+np.sin(5*x)+np.sin(2*x))\n",
    "\n",
    "x = torch.tensor(np.linspace(-3,3,500))\n",
    "\n",
    "# The opposite is not true. In fact it gives an error. A numpy array can not be operated upon by a torch operation. \n",
    "\n",
    "def target_dist_unnorm(x):\n",
    "    return torch.exp(-x**2)*(2+torch.sin(5*x)+torch.sin(2*x))\n",
    "\n",
    "# x = np.linspace(-3,3,500)\n",
    "# print(target_dist_unnorm(x))\n",
    "\n",
    "# But ofc a tensor is compatible with torch operations.\n",
    "\n",
    "def target_dist_unnorm(x):\n",
    "    return torch.exp(-x**2)*(2+torch.sin(5*x)+torch.sin(2*x))\n",
    "\n",
    "x = torch.tensor(np.linspace(-3,3,500))\n",
    "fig, axs = plt.subplots(3)\n",
    "fig.suptitle('Vertically stacked subplots')\n",
    "\n",
    "# You CAN plot tensors as plots and histograms!! But they have to those which do not require a gradient (req_grad = False)\n",
    "\n",
    "axs[0].plot(x,target_dist_unnorm(x));\n",
    "axs[1].hist(x, bins = 1000);\n",
    "axs[2].scatter(x,target_dist_unnorm(x));\n",
    "\n",
    "np.shape(x)"
   ]
  },
  {
   "cell_type": "markdown",
   "metadata": {},
   "source": [
    "### Finding maximum mean discrepancy between two datasets"
   ]
  },
  {
   "cell_type": "code",
   "execution_count": 1,
   "metadata": {},
   "outputs": [],
   "source": [
    "import numpy as np\n",
    "import matplotlib.pyplot as plt\n",
    "import sklearn\n",
    "from sklearn.metrics.pairwise import *\n",
    "\n",
    "def dist_X_Y_rbf(X, Y, kernel_sigma):\n",
    "    X = X.reshape(-1,1)\n",
    "    Y = Y.reshape(-1,1)\n",
    "    kernel_gamma = 1/kernel_sigma\n",
    "    K_x = rbf_kernel(X, gamma=kernel_gamma)\n",
    "    K_y = rbf_kernel(Y, gamma=kernel_gamma)\n",
    "    K_xy = rbf_kernel(X,Y,gamma=kernel_gamma)\n",
    "    return np.mean(K_x) + np.mean(K_y) - 2*np.mean(K_xy)"
   ]
  },
  {
   "cell_type": "markdown",
   "metadata": {},
   "source": [
    "### Parallelizing using concurrent.futures"
   ]
  },
  {
   "cell_type": "code",
   "execution_count": null,
   "metadata": {},
   "outputs": [],
   "source": [
    "from Testing_MCMC_ABC_with_exp_model import mcmc_abc\n",
    "import scipy\n",
    "from scipy.stats import uniform, multivariate_normal\n",
    "from torch.distributions import Exponential, MultivariateNormal\n",
    "from scipy.stats import expon\n",
    "import torch\n",
    "import numpy as np\n",
    "import concurrent.futures\n",
    "\n",
    "uniform_prior = uniform(0.1,4)\n",
    "# exp_prior_mod = WrappedExponential(torch.tensor([1.5]))\n",
    "true_params = np.array([1.5])\n",
    "threshold = 1.49\n",
    "with concurrent.futures.ProcessPoolExecutor() as executor:\n",
    "  f1 = executor.submit(mcmc_abc, 200, true_params, threshold, uniform_prior)\n",
    "\n",
    "# Concurrent.futures expects the function to be imported as opposed to being defined in the main script. \n",
    "# But for that, the script has to run properly with all the necessary libraries imported and variables defined."
   ]
  },
  {
   "cell_type": "markdown",
   "metadata": {},
   "source": [
    "### KDE Approximation of a samples from an estimated posterior along with true value"
   ]
  },
  {
   "cell_type": "code",
   "execution_count": null,
   "metadata": {},
   "outputs": [],
   "source": [
    "def KDE_approx(dataset, true_params):\n",
    "    # dummy dataset\n",
    "    dataset = dataset.flatten()\n",
    "\n",
    "    # the Kernel function\n",
    "    def K(x):\n",
    "        return np.exp(-x**2/2)/np.sqrt(2*np.pi)\n",
    "\n",
    "    # x-value range for plotting KDEs\n",
    "    x_range = np.linspace(dataset.min()-0.1, dataset.max()+0.1, num=1000)\n",
    "\n",
    "    # bandwith values for experimentation\n",
    "    H = [0.02]\n",
    "\n",
    "    n_samples = len(dataset)\n",
    "\n",
    "    # line properties for different bandwith values\n",
    "    color_list = ['black']\n",
    "    alpha_list = [0.9]\n",
    "    width_list = [1.7]\n",
    "\n",
    "    plt.figure(figsize=(10,4))\n",
    "    # iterate over bandwith values\n",
    "    for h, color, alpha, width in zip(H, color_list, alpha_list, width_list):\n",
    "        total_sum = 0\n",
    "        # iterate over datapoints\n",
    "        for i, xi in enumerate(dataset):\n",
    "            total_sum += K((x_range - xi) / h)\n",
    "\n",
    "        y_range = total_sum/(h*n_samples)\n",
    "        plt.plot(x_range, y_range, \n",
    "                color=color, alpha=alpha, linewidth=width, \n",
    "                label=f'{h}')\n",
    "        plt.xlim(0,2)\n",
    "\n",
    "        plt.plot(dataset, np.zeros_like(dataset) , 's', \n",
    "                markersize=1, color='black')\n",
    "\n",
    "    y = np.linspace(0,6,100)\n",
    "    x = np.zeros((100,))\n",
    "    x = [true_params for i in x]\n",
    "    plt.plot(x,y)"
   ]
  },
  {
   "cell_type": "markdown",
   "metadata": {},
   "source": [
    "### Plotting the CDF using samples from a distribution"
   ]
  },
  {
   "cell_type": "code",
   "execution_count": 2,
   "metadata": {},
   "outputs": [
    {
     "ename": "NameError",
     "evalue": "name 'param_array' is not defined",
     "output_type": "error",
     "traceback": [
      "\u001b[0;31m---------------------------------------------------------------------------\u001b[0m",
      "\u001b[0;31mNameError\u001b[0m                                 Traceback (most recent call last)",
      "Input \u001b[0;32mIn [2]\u001b[0m, in \u001b[0;36m<cell line: 1>\u001b[0;34m()\u001b[0m\n\u001b[0;32m----> 1\u001b[0m p \u001b[38;5;241m=\u001b[39m np\u001b[38;5;241m.\u001b[39msort(\u001b[43mparam_array\u001b[49m)\n\u001b[1;32m      2\u001b[0m F2 \u001b[38;5;241m=\u001b[39m np\u001b[38;5;241m.\u001b[39marray(\u001b[38;5;28mrange\u001b[39m(\u001b[38;5;241m2000\u001b[39m))\u001b[38;5;241m/\u001b[39m\u001b[38;5;28mfloat\u001b[39m(\u001b[38;5;241m2000\u001b[39m)\n\u001b[1;32m      3\u001b[0m plt\u001b[38;5;241m.\u001b[39mplot(p, F2)\n",
      "\u001b[0;31mNameError\u001b[0m: name 'param_array' is not defined"
     ]
    }
   ],
   "source": [
    "p = np.sort(param_array)\n",
    "F2 = np.array(range(2000))/float(2000)\n",
    "plt.plot(p, F2)"
   ]
  },
  {
   "cell_type": "markdown",
   "metadata": {},
   "source": [
    "### Side by side subplots"
   ]
  },
  {
   "cell_type": "code",
   "execution_count": 2,
   "metadata": {},
   "outputs": [
    {
     "data": {
      "image/png": "[encoded data removed]",
      "text/plain": [
       "<Figure size 1200x300 with 3 Axes>"
      ]
     },
     "metadata": {},
     "output_type": "display_data"
    }
   ],
   "source": [
    "import matplotlib.pyplot as plt\n",
    "fig, axes = plt.subplots(1,3, figsize=(12,3))"
   ]
  }
 ],
 "metadata": {
  "kernelspec": {
   "display_name": "base",
   "language": "python",
   "name": "python3"
  },
  "language_info": {
   "codemirror_mode": {
    "name": "ipython",
    "version": 3
   },
   "file_extension": ".py",
   "mimetype": "text/x-python",
   "name": "python",
   "nbconvert_exporter": "python",
   "pygments_lexer": "ipython3",
   "version": "3.9.13"
  },
  "orig_nbformat": 4
 },
 "nbformat": 4,
 "nbformat_minor": 2
}
